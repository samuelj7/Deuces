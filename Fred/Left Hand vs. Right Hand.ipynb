{
 "cells": [
  {
   "cell_type": "code",
   "execution_count": 1,
   "id": "15524e78",
   "metadata": {},
   "outputs": [],
   "source": [
    "import matplotlib.pyplot as plt\n",
    "import numpy as np\n",
    "import pandas as pd\n",
    "from scipy.stats import linregress"
   ]
  },
  {
   "cell_type": "code",
   "execution_count": 2,
   "id": "b1b1ba78",
   "metadata": {},
   "outputs": [],
   "source": [
    "# file to load\n",
    "data_men = \"../Resources/all_mens_matches.csv\"\n",
    "data_women = \"../Resources/all_womens_matches.csv\"\n",
    "\n",
    "#Read in CSV\n",
    "atp_data = pd.read_csv(data_men)\n",
    "wta_data = pd.read_csv(data_women)"
   ]
  },
  {
   "cell_type": "code",
   "execution_count": 3,
   "id": "2f60f506",
   "metadata": {},
   "outputs": [],
   "source": [
    "# Fix wta_data column name 'Loser_HandWinner_Country' to 'Loser_Hand'\n",
    "wta_data = wta_data.rename(columns={'Loser_HandWinner_Country':'Loser_Hand'})"
   ]
  },
  {
   "cell_type": "code",
   "execution_count": 4,
   "id": "e9a2d019",
   "metadata": {},
   "outputs": [],
   "source": [
    "# Drop rows that contain string value 'U' in 'Winner_Hand' and 'Loser_Hand'\n",
    "atp_u = atp_data[atp_data['Winner_Hand'].str.contains('U')==False]\n",
    "atp_u2 = atp_u[atp_u['Loser_Hand'].str.contains('U')==False]\n",
    "# Remove rows with Blank/NaN values in any column of dataframe\n",
    "atp_data2 = atp_u2.copy()\n",
    "atp_data2.dropna(inplace=True)"
   ]
  },
  {
   "cell_type": "code",
   "execution_count": 5,
   "id": "a65d1678",
   "metadata": {},
   "outputs": [],
   "source": [
    "# Drop rows that contain string value 'U' in 'Winner_Hand' and 'Loser_Hand'\n",
    "wta_u = wta_data[wta_data['Winner_Hand'].str.contains('U')==False]\n",
    "wta_u2 = wta_u[wta_u['Loser_Hand'].str.contains('U')==False]\n",
    "# Remove rows with Blank/NaN values in any column of dataframe\n",
    "wta_data2 = wta_u2.copy()\n",
    "wta_data2.dropna(inplace=True)"
   ]
  },
  {
   "cell_type": "code",
   "execution_count": 6,
   "id": "d90b9125",
   "metadata": {},
   "outputs": [
    {
     "data": {
      "text/plain": [
       "R    10787\n",
       "L     1738\n",
       "Name: Winner_Hand, dtype: int64"
      ]
     },
     "execution_count": 6,
     "metadata": {},
     "output_type": "execute_result"
    }
   ],
   "source": [
    "atp_hand = atp_data2[\"Winner_Hand\"]\n",
    "atp_hand.value_counts()"
   ]
  },
  {
   "cell_type": "code",
   "execution_count": 7,
   "id": "beb9fec9",
   "metadata": {},
   "outputs": [
    {
     "data": {
      "text/plain": [
       "R    10652\n",
       "L     1004\n",
       "Name: Winner_Hand, dtype: int64"
      ]
     },
     "execution_count": 7,
     "metadata": {},
     "output_type": "execute_result"
    }
   ],
   "source": [
    "wta_hand = wta_data2[\"Winner_Hand\"]\n",
    "wta_hand.value_counts()"
   ]
  },
  {
   "cell_type": "markdown",
   "id": "9a049f0c",
   "metadata": {},
   "source": [
    "# ATP Hand by Winners (Mens)"
   ]
  },
  {
   "cell_type": "code",
   "execution_count": 8,
   "id": "c97f7704",
   "metadata": {},
   "outputs": [
    {
     "data": {
      "image/png": "[encoded data removed]",
      "text/plain": [
       "<Figure size 432x288 with 1 Axes>"
      ]
     },
     "metadata": {},
     "output_type": "display_data"
    },
    {
     "data": {
      "text/plain": [
       "<Figure size 432x288 with 0 Axes>"
      ]
     },
     "metadata": {},
     "output_type": "display_data"
    }
   ],
   "source": [
    "# Pie Chart\n",
    "atp_hand.value_counts().plot.pie(autopct=\"%1.1f%%\")\n",
    "plt.title(\"ATP Hand by Winners\")\n",
    "plt.show()\n",
    "\n",
    "# save figure\n",
    "plt.savefig(\"../Output/ATP Hand by Winners (Mens).png\")"
   ]
  },
  {
   "cell_type": "markdown",
   "id": "a2e9ee30",
   "metadata": {},
   "source": [
    "# WTA Hand by Winners (Womens)"
   ]
  },
  {
   "cell_type": "code",
   "execution_count": 9,
   "id": "ffb264f9",
   "metadata": {},
   "outputs": [
    {
     "data": {
      "image/png": "[encoded data removed]",
      "text/plain": [
       "<Figure size 432x288 with 1 Axes>"
      ]
     },
     "metadata": {},
     "output_type": "display_data"
    },
    {
     "data": {
      "text/plain": [
       "<Figure size 432x288 with 0 Axes>"
      ]
     },
     "metadata": {},
     "output_type": "display_data"
    }
   ],
   "source": [
    "# Pie Chart\n",
    "wta_hand.value_counts().plot.pie(autopct=\"%1.1f%%\")\n",
    "plt.title(\"WTA Hand by Winners\")\n",
    "plt.show()\n",
    "\n",
    "# save figure\n",
    "plt.savefig(\"../Output/WTA Hand by Winners (Womens).png\")"
   ]
  },
  {
   "cell_type": "markdown",
   "id": "a91ea8c5",
   "metadata": {},
   "source": [
    "# ATP - Top 16 Hand by Winners (Quarterfinals and up)"
   ]
  },
  {
   "cell_type": "code",
   "execution_count": 10,
   "id": "70e5eb5f",
   "metadata": {},
   "outputs": [],
   "source": [
    "atp_top16_df = atp_data2.loc[atp_data2[\"Tournament_Placement\"].isin([\"F\",\"SF\",\"QF\"])]"
   ]
  },
  {
   "cell_type": "code",
   "execution_count": 11,
   "id": "2dad9a0f",
   "metadata": {},
   "outputs": [
    {
     "data": {
      "text/plain": [
       "R    1776\n",
       "L     280\n",
       "Name: Winner_Hand, dtype: int64"
      ]
     },
     "execution_count": 11,
     "metadata": {},
     "output_type": "execute_result"
    }
   ],
   "source": [
    "atp_top16_hand = atp_top16_df[\"Winner_Hand\"]\n",
    "atp_top16_hand.value_counts()"
   ]
  },
  {
   "cell_type": "code",
   "execution_count": 12,
   "id": "bfe50c1b",
   "metadata": {},
   "outputs": [
    {
     "data": {
      "image/png": "[encoded data removed]",
      "text/plain": [
       "<Figure size 432x288 with 1 Axes>"
      ]
     },
     "metadata": {},
     "output_type": "display_data"
    },
    {
     "data": {
      "text/plain": [
       "<Figure size 432x288 with 0 Axes>"
      ]
     },
     "metadata": {},
     "output_type": "display_data"
    }
   ],
   "source": [
    "# Pie Chart\n",
    "atp_top16_hand.value_counts().plot.pie(autopct=\"%1.1f%%\")\n",
    "plt.title(\"ATP Top-16 Hand by Winners\")\n",
    "plt.show()\n",
    "\n",
    "# save figure\n",
    "plt.savefig(\"../Output/ATP Top-16 Hand by Winners (Quarterfinals and up).png\")"
   ]
  },
  {
   "cell_type": "markdown",
   "id": "138dba1b",
   "metadata": {},
   "source": [
    "# ATP Other Hand by Winners (Below Quarterfinals)"
   ]
  },
  {
   "cell_type": "code",
   "execution_count": 13,
   "id": "7ee907d7",
   "metadata": {},
   "outputs": [],
   "source": [
    "atp_other_df = atp_data2.loc[atp_data2[\"Tournament_Placement\"].isin([\"RR\",\"R128\",\"R64\",\"R32\",\"R16\",\"BR\"])]"
   ]
  },
  {
   "cell_type": "code",
   "execution_count": 14,
   "id": "a19842a5",
   "metadata": {},
   "outputs": [
    {
     "data": {
      "text/plain": [
       "R    9011\n",
       "L    1458\n",
       "Name: Winner_Hand, dtype: int64"
      ]
     },
     "execution_count": 14,
     "metadata": {},
     "output_type": "execute_result"
    }
   ],
   "source": [
    "atp_other_hand = atp_other_df[\"Winner_Hand\"]\n",
    "atp_other_hand.value_counts()"
   ]
  },
  {
   "cell_type": "code",
   "execution_count": 15,
   "id": "4842850d",
   "metadata": {},
   "outputs": [
    {
     "data": {
      "image/png": "[encoded data removed]",
      "text/plain": [
       "<Figure size 432x288 with 1 Axes>"
      ]
     },
     "metadata": {},
     "output_type": "display_data"
    },
    {
     "data": {
      "text/plain": [
       "<Figure size 432x288 with 0 Axes>"
      ]
     },
     "metadata": {},
     "output_type": "display_data"
    }
   ],
   "source": [
    "# Pie Chart\n",
    "atp_other_hand.value_counts().plot.pie(autopct=\"%1.1f%%\")\n",
    "plt.title(\"ATP Other Hand by Winners\")\n",
    "plt.show()\n",
    "\n",
    "# save figure\n",
    "plt.savefig(\"../Output/ATP Other Hand by Winners (Below Quarterfinals).png\")"
   ]
  },
  {
   "cell_type": "markdown",
   "id": "6dfcd980",
   "metadata": {},
   "source": [
    "# WTA Top 16 Hand by Winners (Quarterfinals and up)"
   ]
  },
  {
   "cell_type": "code",
   "execution_count": 16,
   "id": "50620607",
   "metadata": {},
   "outputs": [],
   "source": [
    "wta_top16_df = wta_data2.loc[wta_data2[\"Tournament_Placement\"].isin([\"F\",\"SF\",\"QF\"])]"
   ]
  },
  {
   "cell_type": "code",
   "execution_count": 17,
   "id": "8cd6b674",
   "metadata": {},
   "outputs": [
    {
     "data": {
      "text/plain": [
       "R    1636\n",
       "L     149\n",
       "Name: Winner_Hand, dtype: int64"
      ]
     },
     "execution_count": 17,
     "metadata": {},
     "output_type": "execute_result"
    }
   ],
   "source": [
    "wta_top16_hand = wta_top16_df[\"Winner_Hand\"]\n",
    "wta_top16_hand.value_counts()"
   ]
  },
  {
   "cell_type": "code",
   "execution_count": 18,
   "id": "82300721",
   "metadata": {},
   "outputs": [
    {
     "data": {
      "image/png": "[encoded data removed]",
      "text/plain": [
       "<Figure size 432x288 with 1 Axes>"
      ]
     },
     "metadata": {},
     "output_type": "display_data"
    },
    {
     "data": {
      "text/plain": [
       "<Figure size 432x288 with 0 Axes>"
      ]
     },
     "metadata": {},
     "output_type": "display_data"
    }
   ],
   "source": [
    "# Pie Chart\n",
    "wta_top16_hand.value_counts().plot.pie(autopct=\"%1.1f%%\")\n",
    "plt.title(\"WTA Top-16 Hand by Winners\")\n",
    "plt.show()\n",
    "\n",
    "# save figure\n",
    "plt.savefig(\"../Output/WTA Top 16 Hand by Winners (Quarterfinals and up).png\")"
   ]
  },
  {
   "cell_type": "markdown",
   "id": "f6b1dfda",
   "metadata": {},
   "source": [
    "# WTA Other Hand by Winners (Below Quarterfinals)"
   ]
  },
  {
   "cell_type": "code",
   "execution_count": 19,
   "id": "ba411602",
   "metadata": {},
   "outputs": [],
   "source": [
    "wta_other_df = wta_data2.loc[wta_data2[\"Tournament_Placement\"].isin([\"RR\",\"R128\",\"R64\",\"R32\",\"R16\",\"BR\"])]"
   ]
  },
  {
   "cell_type": "code",
   "execution_count": 20,
   "id": "f79835a1",
   "metadata": {},
   "outputs": [
    {
     "data": {
      "text/plain": [
       "R    9016\n",
       "L     855\n",
       "Name: Winner_Hand, dtype: int64"
      ]
     },
     "execution_count": 20,
     "metadata": {},
     "output_type": "execute_result"
    }
   ],
   "source": [
    "wta_other_hand = wta_other_df[\"Winner_Hand\"]\n",
    "wta_other_hand.value_counts()"
   ]
  },
  {
   "cell_type": "code",
   "execution_count": 21,
   "id": "4ebabb37",
   "metadata": {},
   "outputs": [
    {
     "data": {
      "image/png": "[encoded data removed]",
      "text/plain": [
       "<Figure size 432x288 with 1 Axes>"
      ]
     },
     "metadata": {},
     "output_type": "display_data"
    },
    {
     "data": {
      "text/plain": [
       "<Figure size 432x288 with 0 Axes>"
      ]
     },
     "metadata": {},
     "output_type": "display_data"
    }
   ],
   "source": [
    "# Pie Chart\n",
    "wta_other_hand.value_counts().plot.pie(autopct=\"%1.1f%%\")\n",
    "plt.title(\"WTA Other Hand by Winners\")\n",
    "plt.show()\n",
    "\n",
    "# save figure\n",
    "plt.savefig(\"../Output/WTA Other Hand by Winners (Below Quarterfinals).png\")"
   ]
  },
  {
   "cell_type": "markdown",
   "id": "cfddbd4c",
   "metadata": {},
   "source": [
    "# ATP Right Hander Win Rate (vs. Left Hander)"
   ]
  },
  {
   "cell_type": "code",
   "execution_count": 22,
   "id": "b4247ec4",
   "metadata": {},
   "outputs": [
    {
     "data": {
      "text/plain": [
       "12525"
      ]
     },
     "execution_count": 22,
     "metadata": {},
     "output_type": "execute_result"
    }
   ],
   "source": [
    "len(atp_data2)"
   ]
  },
  {
   "cell_type": "code",
   "execution_count": 23,
   "id": "ae630942",
   "metadata": {},
   "outputs": [],
   "source": [
    "atp_right = atp_data2.loc[(atp_data2[\"Winner_Hand\"]==\"R\") & (atp_data2[\"Loser_Hand\"]==\"L\")]\n",
    "atp_right2 = atp_data2.loc[(atp_data2[\"Winner_Hand\"]==\"L\") & (atp_data2[\"Loser_Hand\"]==\"R\")]\n",
    "r_o_l = round(len(atp_right) / len(atp_data2),2) * 100\n",
    "l_o_r = round(len(atp_right2) / len(atp_data2),2) * 100"
   ]
  },
  {
   "cell_type": "code",
   "execution_count": 24,
   "id": "50b1d7a2",
   "metadata": {},
   "outputs": [
    {
     "data": {
      "image/png": "[encoded data removed]",
      "text/plain": [
       "<Figure size 432x288 with 1 Axes>"
      ]
     },
     "metadata": {},
     "output_type": "display_data"
    }
   ],
   "source": [
    "# Pie Chart\n",
    "newlist = [r_o_l, l_o_r]\n",
    "newlabels = [\"Right over Left\",\"Left over Right\"]\n",
    "\n",
    "plt.pie(newlist, labels=newlabels, autopct=\"%1.1f%%\")\n",
    "\n",
    "# save figure\n",
    "plt.savefig(\"../Output/ATP Right Hander Win Rate (vs. Left Hander).png\")"
   ]
  },
  {
   "cell_type": "markdown",
   "id": "27c4a197",
   "metadata": {},
   "source": [
    "# ATP Left Hander Win Rate (vs. Right Hander)"
   ]
  },
  {
   "cell_type": "code",
   "execution_count": 25,
   "id": "ea64db53",
   "metadata": {},
   "outputs": [],
   "source": [
    "atp_left = atp_data2.loc[(atp_data2[\"Winner_Hand\"]==\"L\") & (atp_data2[\"Loser_Hand\"]==\"R\")]\n",
    "atp_left2 = atp_data2.loc[(atp_data2[\"Winner_Hand\"]==\"R\") & (atp_data2[\"Loser_Hand\"]==\"L\")]\n",
    "l_o_r2 = round(len(atp_left) / len(atp_data2),2) * 100\n",
    "r_o_l2 = round(len(atp_left2) / len(atp_data2),2) * 100"
   ]
  },
  {
   "cell_type": "code",
   "execution_count": 26,
   "id": "5b509853",
   "metadata": {},
   "outputs": [
    {
     "data": {
      "image/png": "[encoded data removed]",
      "text/plain": [
       "<Figure size 432x288 with 1 Axes>"
      ]
     },
     "metadata": {},
     "output_type": "display_data"
    }
   ],
   "source": [
    "# Pie Chart\n",
    "newlist2 = [l_o_r2, r_o_l2]\n",
    "newlabels2 = [\"Left over Right\",\"Right over Left\"]\n",
    "\n",
    "plt.pie(newlist2, labels=newlabels2, autopct=\"%1.1f%%\")\n",
    "\n",
    "# save figure\n",
    "plt.savefig(\"../Output/ATP Left Hander Win Rate (vs. Right Hander).png\")"
   ]
  },
  {
   "cell_type": "markdown",
   "id": "089af08c",
   "metadata": {},
   "source": [
    "# WTA Right Hander Win Rate (vs. Left Hander)"
   ]
  },
  {
   "cell_type": "code",
   "execution_count": 27,
   "id": "85ba05f1",
   "metadata": {},
   "outputs": [
    {
     "data": {
      "text/plain": [
       "11656"
      ]
     },
     "execution_count": 27,
     "metadata": {},
     "output_type": "execute_result"
    }
   ],
   "source": [
    "len(wta_data2)"
   ]
  },
  {
   "cell_type": "code",
   "execution_count": 28,
   "id": "f6140c18",
   "metadata": {},
   "outputs": [],
   "source": [
    "wta_right = wta_data2.loc[(wta_data2[\"Winner_Hand\"]==\"R\") & (wta_data2[\"Loser_Hand\"]==\"L\")]\n",
    "wta_right2 = wta_data2.loc[(wta_data2[\"Winner_Hand\"]==\"L\") & (wta_data2[\"Loser_Hand\"]==\"R\")]\n",
    "r_o_l3 = round(len(wta_right) / len(wta_data2),2) * 100\n",
    "l_o_r3 = round(len(wta_right2) / len(wta_data2),2) * 100"
   ]
  },
  {
   "cell_type": "code",
   "execution_count": 29,
   "id": "54e88079",
   "metadata": {},
   "outputs": [
    {
     "data": {
      "image/png": "[encoded data removed]",
      "text/plain": [
       "<Figure size 432x288 with 1 Axes>"
      ]
     },
     "metadata": {},
     "output_type": "display_data"
    }
   ],
   "source": [
    "# Pie Chart\n",
    "newlist3 = [r_o_l3, l_o_r3]\n",
    "newlabels3 = [\"Right over Left\",\"Left over Right\"]\n",
    "\n",
    "plt.pie(newlist3, labels=newlabels3, autopct=\"%1.1f%%\")\n",
    "\n",
    "# save figure\n",
    "plt.savefig(\"../Output/WTA Right Hander Win Rate (vs. Left Hander).png\")"
   ]
  },
  {
   "cell_type": "markdown",
   "id": "0164d4fa",
   "metadata": {},
   "source": [
    "# WTA Left Hander Win Rate (vs. Right Hander)"
   ]
  },
  {
   "cell_type": "code",
   "execution_count": 30,
   "id": "c41d3cd4",
   "metadata": {},
   "outputs": [],
   "source": [
    "wta_left = wta_data2.loc[(wta_data2[\"Winner_Hand\"]==\"L\") & (wta_data2[\"Loser_Hand\"]==\"R\")]\n",
    "wta_left2 = wta_data2.loc[(wta_data2[\"Winner_Hand\"]==\"R\") & (wta_data2[\"Loser_Hand\"]==\"L\")]\n",
    "r_o_l4 = round(len(wta_left) / len(wta_data2),2) * 100\n",
    "l_o_r4 = round(len(wta_left2) / len(wta_data2),2) * 100"
   ]
  },
  {
   "cell_type": "code",
   "execution_count": 31,
   "id": "5918798f",
   "metadata": {},
   "outputs": [
    {
     "data": {
      "image/png": "[encoded data removed]",
      "text/plain": [
       "<Figure size 432x288 with 1 Axes>"
      ]
     },
     "metadata": {},
     "output_type": "display_data"
    }
   ],
   "source": [
    "# Pie Chart\n",
    "newlist4 = [l_o_r4, r_o_l4]\n",
    "newlabels4 = [\"Left over Right\",\"Right over Left\"]\n",
    "\n",
    "plt.pie(newlist4, labels=newlabels4, autopct=\"%1.1f%%\")\n",
    "\n",
    "# save figure\n",
    "plt.savefig(\"../Output/WTA Left Hander Win Rate (vs. Right Hander).png\")"
   ]
  },
  {
   "cell_type": "code",
   "execution_count": null,
   "id": "f2a0fc42",
   "metadata": {},
   "outputs": [],
   "source": []
  }
 ],
 "metadata": {
  "kernelspec": {
   "display_name": "Python 3",
   "language": "python",
   "name": "python3"
  },
  "language_info": {
   "codemirror_mode": {
    "name": "ipython",
    "version": 3
   },
   "file_extension": ".py",
   "mimetype": "text/x-python",
   "name": "python",
   "nbconvert_exporter": "python",
   "pygments_lexer": "ipython3",
   "version": "3.8.8"
  }
 },
 "nbformat": 4,
 "nbformat_minor": 5
}
