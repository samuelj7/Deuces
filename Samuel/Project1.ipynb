{
 "cells": [
  {
   "cell_type": "code",
   "execution_count": 28,
   "id": "92b531ff",
   "metadata": {},
   "outputs": [],
   "source": [
    "import pandas as pd\n",
    "import matplotlib.pyplot as plt"
   ]
  },
  {
   "cell_type": "code",
   "execution_count": 3,
   "id": "0c393a70",
   "metadata": {},
   "outputs": [],
   "source": [
    "new_df_atp = \"../Resources/all_mens_matches.csv\"\n",
    "new_df_atp = pd.read_csv(new_df_atp)"
   ]
  },
  {
   "cell_type": "markdown",
   "id": "dee8c653",
   "metadata": {},
   "source": [
    "ATP Code"
   ]
  },
  {
   "cell_type": "code",
   "execution_count": 4,
   "id": "2e7eeb94",
   "metadata": {
    "scrolled": false
   },
   "outputs": [
    {
     "data": {
      "text/html": [
       "<div>\n",
       "<style scoped>\n",
       "    .dataframe tbody tr th:only-of-type {\n",
       "        vertical-align: middle;\n",
       "    }\n",
       "\n",
       "    .dataframe tbody tr th {\n",
       "        vertical-align: top;\n",
       "    }\n",
       "\n",
       "    .dataframe thead th {\n",
       "        text-align: right;\n",
       "    }\n",
       "</style>\n",
       "<table border=\"1\" class=\"dataframe\">\n",
       "  <thead>\n",
       "    <tr style=\"text-align: right;\">\n",
       "      <th></th>\n",
       "      <th>Unnamed: 0</th>\n",
       "      <th>Tourney_Name</th>\n",
       "      <th>Surface</th>\n",
       "      <th>Tournament_Placement</th>\n",
       "      <th>Winner_Name</th>\n",
       "      <th>Winner_Hand</th>\n",
       "      <th>Winner_Country</th>\n",
       "      <th>Winner_Age</th>\n",
       "      <th>Match Format</th>\n",
       "    </tr>\n",
       "  </thead>\n",
       "  <tbody>\n",
       "    <tr>\n",
       "      <th>0</th>\n",
       "      <td>0</td>\n",
       "      <td>Brisbane</td>\n",
       "      <td>Hard</td>\n",
       "      <td>R32</td>\n",
       "      <td>Viktor Troicki</td>\n",
       "      <td>R</td>\n",
       "      <td>SRB</td>\n",
       "      <td>30.893908</td>\n",
       "      <td>3</td>\n",
       "    </tr>\n",
       "    <tr>\n",
       "      <th>1</th>\n",
       "      <td>1</td>\n",
       "      <td>Brisbane</td>\n",
       "      <td>Hard</td>\n",
       "      <td>R32</td>\n",
       "      <td>Kyle Edmund</td>\n",
       "      <td>R</td>\n",
       "      <td>GBR</td>\n",
       "      <td>21.984942</td>\n",
       "      <td>3</td>\n",
       "    </tr>\n",
       "    <tr>\n",
       "      <th>2</th>\n",
       "      <td>2</td>\n",
       "      <td>Brisbane</td>\n",
       "      <td>Hard</td>\n",
       "      <td>R32</td>\n",
       "      <td>Lucas Pouille</td>\n",
       "      <td>R</td>\n",
       "      <td>FRA</td>\n",
       "      <td>22.858316</td>\n",
       "      <td>3</td>\n",
       "    </tr>\n",
       "    <tr>\n",
       "      <th>3</th>\n",
       "      <td>3</td>\n",
       "      <td>Brisbane</td>\n",
       "      <td>Hard</td>\n",
       "      <td>R32</td>\n",
       "      <td>Jared Donaldson</td>\n",
       "      <td>R</td>\n",
       "      <td>USA</td>\n",
       "      <td>20.232717</td>\n",
       "      <td>3</td>\n",
       "    </tr>\n",
       "    <tr>\n",
       "      <th>4</th>\n",
       "      <td>4</td>\n",
       "      <td>Brisbane</td>\n",
       "      <td>Hard</td>\n",
       "      <td>R32</td>\n",
       "      <td>Jordan Thompson</td>\n",
       "      <td>R</td>\n",
       "      <td>AUS</td>\n",
       "      <td>22.704997</td>\n",
       "      <td>3</td>\n",
       "    </tr>\n",
       "    <tr>\n",
       "      <th>...</th>\n",
       "      <td>...</td>\n",
       "      <td>...</td>\n",
       "      <td>...</td>\n",
       "      <td>...</td>\n",
       "      <td>...</td>\n",
       "      <td>...</td>\n",
       "      <td>...</td>\n",
       "      <td>...</td>\n",
       "      <td>...</td>\n",
       "    </tr>\n",
       "    <tr>\n",
       "      <th>12771</th>\n",
       "      <td>2722</td>\n",
       "      <td>Davis Cup WG2 R1: THA vs DEN</td>\n",
       "      <td>Hard</td>\n",
       "      <td>RR</td>\n",
       "      <td>August Holmgren</td>\n",
       "      <td>R</td>\n",
       "      <td>DEN</td>\n",
       "      <td>23.394935</td>\n",
       "      <td>3</td>\n",
       "    </tr>\n",
       "    <tr>\n",
       "      <th>12772</th>\n",
       "      <td>2723</td>\n",
       "      <td>Davis Cup WG2 R1: THA vs DEN</td>\n",
       "      <td>Hard</td>\n",
       "      <td>RR</td>\n",
       "      <td>Kasidit Samrej</td>\n",
       "      <td>R</td>\n",
       "      <td>THA</td>\n",
       "      <td>20.629706</td>\n",
       "      <td>3</td>\n",
       "    </tr>\n",
       "    <tr>\n",
       "      <th>12773</th>\n",
       "      <td>2724</td>\n",
       "      <td>Davis Cup WG2 R1: TUR vs LAT</td>\n",
       "      <td>Hard</td>\n",
       "      <td>RR</td>\n",
       "      <td>Altug Celikbilek</td>\n",
       "      <td>U</td>\n",
       "      <td>TUR</td>\n",
       "      <td>25.015743</td>\n",
       "      <td>3</td>\n",
       "    </tr>\n",
       "    <tr>\n",
       "      <th>12774</th>\n",
       "      <td>2725</td>\n",
       "      <td>Davis Cup WG2 R1: TUR vs LAT</td>\n",
       "      <td>Hard</td>\n",
       "      <td>RR</td>\n",
       "      <td>Cem Ilkel</td>\n",
       "      <td>R</td>\n",
       "      <td>TUR</td>\n",
       "      <td>26.064339</td>\n",
       "      <td>3</td>\n",
       "    </tr>\n",
       "    <tr>\n",
       "      <th>12775</th>\n",
       "      <td>2726</td>\n",
       "      <td>Davis Cup WG2 R1: TUR vs LAT</td>\n",
       "      <td>Hard</td>\n",
       "      <td>RR</td>\n",
       "      <td>Ergi Kirkin</td>\n",
       "      <td>R</td>\n",
       "      <td>TUR</td>\n",
       "      <td>22.628337</td>\n",
       "      <td>3</td>\n",
       "    </tr>\n",
       "  </tbody>\n",
       "</table>\n",
       "<p>12776 rows × 9 columns</p>\n",
       "</div>"
      ],
      "text/plain": [
       "       Unnamed: 0                  Tourney_Name Surface Tournament_Placement  \\\n",
       "0               0                      Brisbane    Hard                  R32   \n",
       "1               1                      Brisbane    Hard                  R32   \n",
       "2               2                      Brisbane    Hard                  R32   \n",
       "3               3                      Brisbane    Hard                  R32   \n",
       "4               4                      Brisbane    Hard                  R32   \n",
       "...           ...                           ...     ...                  ...   \n",
       "12771        2722  Davis Cup WG2 R1: THA vs DEN    Hard                   RR   \n",
       "12772        2723  Davis Cup WG2 R1: THA vs DEN    Hard                   RR   \n",
       "12773        2724  Davis Cup WG2 R1: TUR vs LAT    Hard                   RR   \n",
       "12774        2725  Davis Cup WG2 R1: TUR vs LAT    Hard                   RR   \n",
       "12775        2726  Davis Cup WG2 R1: TUR vs LAT    Hard                   RR   \n",
       "\n",
       "            Winner_Name Winner_Hand Winner_Country  Winner_Age  Match Format  \n",
       "0        Viktor Troicki           R            SRB   30.893908             3  \n",
       "1           Kyle Edmund           R            GBR   21.984942             3  \n",
       "2         Lucas Pouille           R            FRA   22.858316             3  \n",
       "3       Jared Donaldson           R            USA   20.232717             3  \n",
       "4       Jordan Thompson           R            AUS   22.704997             3  \n",
       "...                 ...         ...            ...         ...           ...  \n",
       "12771   August Holmgren           R            DEN   23.394935             3  \n",
       "12772    Kasidit Samrej           R            THA   20.629706             3  \n",
       "12773  Altug Celikbilek           U            TUR   25.015743             3  \n",
       "12774         Cem Ilkel           R            TUR   26.064339             3  \n",
       "12775       Ergi Kirkin           R            TUR   22.628337             3  \n",
       "\n",
       "[12776 rows x 9 columns]"
      ]
     },
     "execution_count": 4,
     "metadata": {},
     "output_type": "execute_result"
    }
   ],
   "source": [
    "new_df_atp"
   ]
  },
  {
   "cell_type": "code",
   "execution_count": 5,
   "id": "aff71322",
   "metadata": {},
   "outputs": [
    {
     "data": {
      "text/plain": [
       "28.0"
      ]
     },
     "execution_count": 5,
     "metadata": {},
     "output_type": "execute_result"
    }
   ],
   "source": [
    "wag = new_df_atp[\"Winner_Age\"]\n",
    "round(wag.mean(axis=0),0)"
   ]
  },
  {
   "cell_type": "code",
   "execution_count": 6,
   "id": "4c5ec668",
   "metadata": {},
   "outputs": [
    {
     "data": {
      "text/plain": [
       "0    29.0\n",
       "dtype: float64"
      ]
     },
     "execution_count": 6,
     "metadata": {},
     "output_type": "execute_result"
    }
   ],
   "source": [
    "wag = wag.round(0)\n",
    "wagmode = wag.mode()\n",
    "wagmode"
   ]
  },
  {
   "cell_type": "code",
   "execution_count": null,
   "id": "bb188529",
   "metadata": {},
   "outputs": [],
   "source": []
  },
  {
   "cell_type": "code",
   "execution_count": 7,
   "id": "7448d28f",
   "metadata": {},
   "outputs": [
    {
     "data": {
      "text/plain": [
       "11686    42.0\n",
       "10069    42.0\n",
       "8240     41.0\n",
       "8763     41.0\n",
       "6037     40.0\n",
       "         ... \n",
       "9989      NaN\n",
       "10008     NaN\n",
       "10009     NaN\n",
       "10010     NaN\n",
       "10011     NaN\n",
       "Name: Winner_Age, Length: 12776, dtype: float64"
      ]
     },
     "execution_count": 7,
     "metadata": {},
     "output_type": "execute_result"
    }
   ],
   "source": [
    "wag.sort_values(ascending=False)"
   ]
  },
  {
   "cell_type": "code",
   "execution_count": 8,
   "id": "bd354876",
   "metadata": {},
   "outputs": [
    {
     "data": {
      "text/plain": [
       "29.0    1081\n",
       "30.0     918\n",
       "31.0     870\n",
       "26.0     862\n",
       "23.0     840\n",
       "Name: Winner_Age, dtype: int64"
      ]
     },
     "execution_count": 8,
     "metadata": {},
     "output_type": "execute_result"
    }
   ],
   "source": [
    "wag.value_counts().head(5) ##[:5].sort_values(ascending=False)\n",
    "\n"
   ]
  },
  {
   "cell_type": "code",
   "execution_count": 9,
   "id": "39fa4b83",
   "metadata": {},
   "outputs": [
    {
     "data": {
      "text/plain": [
       "29.0    840\n",
       "30.0    703\n",
       "26.0    696\n",
       "31.0    685\n",
       "23.0    677\n",
       "Name: Winner_Age, dtype: int64"
      ]
     },
     "execution_count": 9,
     "metadata": {},
     "output_type": "execute_result"
    }
   ],
   "source": [
    "mfv = new_df_atp\n",
    "\n",
    "mvf3 = mfv[mfv[\"Match Format\"] == 3]\n",
    "mvf5 = mfv[mfv[\"Match Format\"]==5]\n",
    "mvf3 = mvf3[\"Winner_Age\"].round(0).value_counts()\n",
    "mvf3.head(5)"
   ]
  },
  {
   "cell_type": "code",
   "execution_count": 10,
   "id": "df5d6e04",
   "metadata": {},
   "outputs": [
    {
     "data": {
      "text/plain": [
       "29.0    241\n",
       "30.0    215\n",
       "32.0    188\n",
       "31.0    185\n",
       "24.0    168\n",
       "Name: Winner_Age, dtype: int64"
      ]
     },
     "execution_count": 10,
     "metadata": {},
     "output_type": "execute_result"
    }
   ],
   "source": [
    "mvf5 = mvf5[\"Winner_Age\"].round(0).value_counts()\n",
    "mvf5.head(5)"
   ]
  },
  {
   "cell_type": "code",
   "execution_count": 11,
   "id": "f7f28dd3",
   "metadata": {},
   "outputs": [
    {
     "data": {
      "text/plain": [
       "0        31.0\n",
       "1        22.0\n",
       "2        23.0\n",
       "3        20.0\n",
       "4        23.0\n",
       "         ... \n",
       "12771    23.0\n",
       "12772    21.0\n",
       "12773    25.0\n",
       "12774    26.0\n",
       "12775    23.0\n",
       "Name: Winner_Age, Length: 12776, dtype: float64"
      ]
     },
     "execution_count": 11,
     "metadata": {},
     "output_type": "execute_result"
    }
   ],
   "source": [
    "wag"
   ]
  },
  {
   "cell_type": "code",
   "execution_count": 13,
   "id": "92acf9a4",
   "metadata": {},
   "outputs": [
    {
     "data": {
      "text/plain": [
       "15.0"
      ]
     },
     "execution_count": 13,
     "metadata": {},
     "output_type": "execute_result"
    }
   ],
   "source": [
    "wag.min()"
   ]
  },
  {
   "cell_type": "code",
   "execution_count": 14,
   "id": "33f5ad84",
   "metadata": {},
   "outputs": [
    {
     "data": {
      "text/plain": [
       "42.0"
      ]
     },
     "execution_count": 14,
     "metadata": {},
     "output_type": "execute_result"
    }
   ],
   "source": [
    "wag.max()"
   ]
  },
  {
   "cell_type": "code",
   "execution_count": 32,
   "id": "b0b07f75",
   "metadata": {},
   "outputs": [],
   "source": [
    "bins = pd.cut(wag,9)"
   ]
  },
  {
   "cell_type": "code",
   "execution_count": 33,
   "id": "d138a9bc",
   "metadata": {},
   "outputs": [],
   "source": [
    "groups = wag.groupby(bins)\n",
    "group = groups.count()"
   ]
  },
  {
   "cell_type": "code",
   "execution_count": 25,
   "id": "62b67485",
   "metadata": {},
   "outputs": [],
   "source": [
    "mvf3 = mfv[mfv[\"Match Format\"] == 3]\n",
    "mvf5 = mfv[mfv[\"Match Format\"]==5]\n",
    "mvf3 = mvf3[\"Winner_Age\"].round(0)\n",
    "mvf5 = mvf5[\"Winner_Age\"].round(0)\n"
   ]
  },
  {
   "cell_type": "code",
   "execution_count": 30,
   "id": "530503e7",
   "metadata": {},
   "outputs": [],
   "source": [
    "bins3 = pd.cut(mvf3,9)\n",
    "groups = mvf3.groupby(bins3)\n",
    "group3 = groups.count()"
   ]
  },
  {
   "cell_type": "code",
   "execution_count": 29,
   "id": "cda13a65",
   "metadata": {},
   "outputs": [],
   "source": [
    "bins5 = pd.cut(mvf5,9)\n",
    "groups = mvf5.groupby(bins5)\n",
    "group5 = groups.count()"
   ]
  },
  {
   "cell_type": "code",
   "execution_count": 40,
   "id": "f5c5c3e4",
   "metadata": {},
   "outputs": [
    {
     "data": {
      "text/plain": [
       "Text(0, 0.5, 'Win Count')"
      ]
     },
     "execution_count": 40,
     "metadata": {},
     "output_type": "execute_result"
    },
    {
     "data": {
      "image/png": "[encoded data removed]",
      "text/plain": [
       "<Figure size 432x288 with 1 Axes>"
      ]
     },
     "metadata": {
      "needs_background": "light"
     },
     "output_type": "display_data"
    }
   ],
   "source": [
    "#Overall Graph\n",
    "plt.figure()\n",
    "\n",
    "ax = group.plot(kind='bar')\n",
    "ax.set_ylabel(\"Win Count\")\n",
    "\n",
    "\n"
   ]
  },
  {
   "cell_type": "code",
   "execution_count": 62,
   "id": "8903cc3b",
   "metadata": {},
   "outputs": [
    {
     "ename": "FileNotFoundError",
     "evalue": "[Errno 2] No such file or directory: 'Output/ATP Winners by Age in Best of 3 Matches.png'",
     "output_type": "error",
     "traceback": [
      "\u001b[0;31m---------------------------------------------------------------------------\u001b[0m",
      "\u001b[0;31mFileNotFoundError\u001b[0m                         Traceback (most recent call last)",
      "\u001b[0;32m/var/folders/q0/5v_yzs8x58380c5k3_v8w3700000gn/T/ipykernel_71958/655988135.py\u001b[0m in \u001b[0;36m<module>\u001b[0;34m\u001b[0m\n\u001b[1;32m      6\u001b[0m \u001b[0max\u001b[0m \u001b[0;34m=\u001b[0m \u001b[0mgroup3\u001b[0m\u001b[0;34m.\u001b[0m\u001b[0mplot\u001b[0m\u001b[0;34m(\u001b[0m\u001b[0mkind\u001b[0m\u001b[0;34m=\u001b[0m\u001b[0;34m'bar'\u001b[0m\u001b[0;34m)\u001b[0m\u001b[0;34m\u001b[0m\u001b[0;34m\u001b[0m\u001b[0m\n\u001b[1;32m      7\u001b[0m \u001b[0max\u001b[0m\u001b[0;34m.\u001b[0m\u001b[0mset_ylabel\u001b[0m\u001b[0;34m(\u001b[0m\u001b[0;34m\"Win Count\"\u001b[0m\u001b[0;34m)\u001b[0m\u001b[0;34m\u001b[0m\u001b[0;34m\u001b[0m\u001b[0m\n\u001b[0;32m----> 8\u001b[0;31m \u001b[0mplt\u001b[0m\u001b[0;34m.\u001b[0m\u001b[0msavefig\u001b[0m\u001b[0;34m(\u001b[0m\u001b[0;34m\"Output/ATP Winners by Age in Best of 3 Matches\"\u001b[0m\u001b[0;34m)\u001b[0m\u001b[0;34m\u001b[0m\u001b[0;34m\u001b[0m\u001b[0m\n\u001b[0m\u001b[1;32m      9\u001b[0m \u001b[0mplt\u001b[0m\u001b[0;34m.\u001b[0m\u001b[0mshow\u001b[0m\u001b[0;34m(\u001b[0m\u001b[0;34m)\u001b[0m\u001b[0;34m\u001b[0m\u001b[0;34m\u001b[0m\u001b[0m\n",
      "\u001b[0;32m~/opt/anaconda3/lib/python3.9/site-packages/matplotlib/pyplot.py\u001b[0m in \u001b[0;36msavefig\u001b[0;34m(*args, **kwargs)\u001b[0m\n\u001b[1;32m    964\u001b[0m \u001b[0;32mdef\u001b[0m \u001b[0msavefig\u001b[0m\u001b[0;34m(\u001b[0m\u001b[0;34m*\u001b[0m\u001b[0margs\u001b[0m\u001b[0;34m,\u001b[0m \u001b[0;34m**\u001b[0m\u001b[0mkwargs\u001b[0m\u001b[0;34m)\u001b[0m\u001b[0;34m:\u001b[0m\u001b[0;34m\u001b[0m\u001b[0;34m\u001b[0m\u001b[0m\n\u001b[1;32m    965\u001b[0m     \u001b[0mfig\u001b[0m \u001b[0;34m=\u001b[0m \u001b[0mgcf\u001b[0m\u001b[0;34m(\u001b[0m\u001b[0;34m)\u001b[0m\u001b[0;34m\u001b[0m\u001b[0;34m\u001b[0m\u001b[0m\n\u001b[0;32m--> 966\u001b[0;31m     \u001b[0mres\u001b[0m \u001b[0;34m=\u001b[0m \u001b[0mfig\u001b[0m\u001b[0;34m.\u001b[0m\u001b[0msavefig\u001b[0m\u001b[0;34m(\u001b[0m\u001b[0;34m*\u001b[0m\u001b[0margs\u001b[0m\u001b[0;34m,\u001b[0m \u001b[0;34m**\u001b[0m\u001b[0mkwargs\u001b[0m\u001b[0;34m)\u001b[0m\u001b[0;34m\u001b[0m\u001b[0;34m\u001b[0m\u001b[0m\n\u001b[0m\u001b[1;32m    967\u001b[0m     \u001b[0mfig\u001b[0m\u001b[0;34m.\u001b[0m\u001b[0mcanvas\u001b[0m\u001b[0;34m.\u001b[0m\u001b[0mdraw_idle\u001b[0m\u001b[0;34m(\u001b[0m\u001b[0;34m)\u001b[0m   \u001b[0;31m# need this if 'transparent=True' to reset colors\u001b[0m\u001b[0;34m\u001b[0m\u001b[0;34m\u001b[0m\u001b[0m\n\u001b[1;32m    968\u001b[0m     \u001b[0;32mreturn\u001b[0m \u001b[0mres\u001b[0m\u001b[0;34m\u001b[0m\u001b[0;34m\u001b[0m\u001b[0m\n",
      "\u001b[0;32m~/opt/anaconda3/lib/python3.9/site-packages/matplotlib/figure.py\u001b[0m in \u001b[0;36msavefig\u001b[0;34m(self, fname, transparent, **kwargs)\u001b[0m\n\u001b[1;32m   3013\u001b[0m                 \u001b[0mpatch\u001b[0m\u001b[0;34m.\u001b[0m\u001b[0mset_edgecolor\u001b[0m\u001b[0;34m(\u001b[0m\u001b[0;34m'none'\u001b[0m\u001b[0;34m)\u001b[0m\u001b[0;34m\u001b[0m\u001b[0;34m\u001b[0m\u001b[0m\n\u001b[1;32m   3014\u001b[0m \u001b[0;34m\u001b[0m\u001b[0m\n\u001b[0;32m-> 3015\u001b[0;31m         \u001b[0mself\u001b[0m\u001b[0;34m.\u001b[0m\u001b[0mcanvas\u001b[0m\u001b[0;34m.\u001b[0m\u001b[0mprint_figure\u001b[0m\u001b[0;34m(\u001b[0m\u001b[0mfname\u001b[0m\u001b[0;34m,\u001b[0m \u001b[0;34m**\u001b[0m\u001b[0mkwargs\u001b[0m\u001b[0;34m)\u001b[0m\u001b[0;34m\u001b[0m\u001b[0;34m\u001b[0m\u001b[0m\n\u001b[0m\u001b[1;32m   3016\u001b[0m \u001b[0;34m\u001b[0m\u001b[0m\n\u001b[1;32m   3017\u001b[0m         \u001b[0;32mif\u001b[0m \u001b[0mtransparent\u001b[0m\u001b[0;34m:\u001b[0m\u001b[0;34m\u001b[0m\u001b[0;34m\u001b[0m\u001b[0m\n",
      "\u001b[0;32m~/opt/anaconda3/lib/python3.9/site-packages/matplotlib/backend_bases.py\u001b[0m in \u001b[0;36mprint_figure\u001b[0;34m(self, filename, dpi, facecolor, edgecolor, orientation, format, bbox_inches, pad_inches, bbox_extra_artists, backend, **kwargs)\u001b[0m\n\u001b[1;32m   2253\u001b[0m                 \u001b[0;31m# force the figure dpi to 72), so we need to set it again here.\u001b[0m\u001b[0;34m\u001b[0m\u001b[0;34m\u001b[0m\u001b[0m\n\u001b[1;32m   2254\u001b[0m                 \u001b[0;32mwith\u001b[0m \u001b[0mcbook\u001b[0m\u001b[0;34m.\u001b[0m\u001b[0m_setattr_cm\u001b[0m\u001b[0;34m(\u001b[0m\u001b[0mself\u001b[0m\u001b[0;34m.\u001b[0m\u001b[0mfigure\u001b[0m\u001b[0;34m,\u001b[0m \u001b[0mdpi\u001b[0m\u001b[0;34m=\u001b[0m\u001b[0mdpi\u001b[0m\u001b[0;34m)\u001b[0m\u001b[0;34m:\u001b[0m\u001b[0;34m\u001b[0m\u001b[0;34m\u001b[0m\u001b[0m\n\u001b[0;32m-> 2255\u001b[0;31m                     result = print_method(\n\u001b[0m\u001b[1;32m   2256\u001b[0m                         \u001b[0mfilename\u001b[0m\u001b[0;34m,\u001b[0m\u001b[0;34m\u001b[0m\u001b[0;34m\u001b[0m\u001b[0m\n\u001b[1;32m   2257\u001b[0m                         \u001b[0mfacecolor\u001b[0m\u001b[0;34m=\u001b[0m\u001b[0mfacecolor\u001b[0m\u001b[0;34m,\u001b[0m\u001b[0;34m\u001b[0m\u001b[0;34m\u001b[0m\u001b[0m\n",
      "\u001b[0;32m~/opt/anaconda3/lib/python3.9/site-packages/matplotlib/backend_bases.py\u001b[0m in \u001b[0;36mwrapper\u001b[0;34m(*args, **kwargs)\u001b[0m\n\u001b[1;32m   1667\u001b[0m             \u001b[0mkwargs\u001b[0m\u001b[0;34m.\u001b[0m\u001b[0mpop\u001b[0m\u001b[0;34m(\u001b[0m\u001b[0marg\u001b[0m\u001b[0;34m)\u001b[0m\u001b[0;34m\u001b[0m\u001b[0;34m\u001b[0m\u001b[0m\n\u001b[1;32m   1668\u001b[0m \u001b[0;34m\u001b[0m\u001b[0m\n\u001b[0;32m-> 1669\u001b[0;31m         \u001b[0;32mreturn\u001b[0m \u001b[0mfunc\u001b[0m\u001b[0;34m(\u001b[0m\u001b[0;34m*\u001b[0m\u001b[0margs\u001b[0m\u001b[0;34m,\u001b[0m \u001b[0;34m**\u001b[0m\u001b[0mkwargs\u001b[0m\u001b[0;34m)\u001b[0m\u001b[0;34m\u001b[0m\u001b[0;34m\u001b[0m\u001b[0m\n\u001b[0m\u001b[1;32m   1670\u001b[0m \u001b[0;34m\u001b[0m\u001b[0m\n\u001b[1;32m   1671\u001b[0m     \u001b[0;32mreturn\u001b[0m \u001b[0mwrapper\u001b[0m\u001b[0;34m\u001b[0m\u001b[0;34m\u001b[0m\u001b[0m\n",
      "\u001b[0;32m~/opt/anaconda3/lib/python3.9/site-packages/matplotlib/backends/backend_agg.py\u001b[0m in \u001b[0;36mprint_png\u001b[0;34m(self, filename_or_obj, metadata, pil_kwargs, *args)\u001b[0m\n\u001b[1;32m    507\u001b[0m         \"\"\"\n\u001b[1;32m    508\u001b[0m         \u001b[0mFigureCanvasAgg\u001b[0m\u001b[0;34m.\u001b[0m\u001b[0mdraw\u001b[0m\u001b[0;34m(\u001b[0m\u001b[0mself\u001b[0m\u001b[0;34m)\u001b[0m\u001b[0;34m\u001b[0m\u001b[0;34m\u001b[0m\u001b[0m\n\u001b[0;32m--> 509\u001b[0;31m         mpl.image.imsave(\n\u001b[0m\u001b[1;32m    510\u001b[0m             \u001b[0mfilename_or_obj\u001b[0m\u001b[0;34m,\u001b[0m \u001b[0mself\u001b[0m\u001b[0;34m.\u001b[0m\u001b[0mbuffer_rgba\u001b[0m\u001b[0;34m(\u001b[0m\u001b[0;34m)\u001b[0m\u001b[0;34m,\u001b[0m \u001b[0mformat\u001b[0m\u001b[0;34m=\u001b[0m\u001b[0;34m\"png\"\u001b[0m\u001b[0;34m,\u001b[0m \u001b[0morigin\u001b[0m\u001b[0;34m=\u001b[0m\u001b[0;34m\"upper\"\u001b[0m\u001b[0;34m,\u001b[0m\u001b[0;34m\u001b[0m\u001b[0;34m\u001b[0m\u001b[0m\n\u001b[1;32m    511\u001b[0m             dpi=self.figure.dpi, metadata=metadata, pil_kwargs=pil_kwargs)\n",
      "\u001b[0;32m~/opt/anaconda3/lib/python3.9/site-packages/matplotlib/image.py\u001b[0m in \u001b[0;36mimsave\u001b[0;34m(fname, arr, vmin, vmax, cmap, format, origin, dpi, metadata, pil_kwargs)\u001b[0m\n\u001b[1;32m   1614\u001b[0m         \u001b[0mpil_kwargs\u001b[0m\u001b[0;34m.\u001b[0m\u001b[0msetdefault\u001b[0m\u001b[0;34m(\u001b[0m\u001b[0;34m\"format\"\u001b[0m\u001b[0;34m,\u001b[0m \u001b[0mformat\u001b[0m\u001b[0;34m)\u001b[0m\u001b[0;34m\u001b[0m\u001b[0;34m\u001b[0m\u001b[0m\n\u001b[1;32m   1615\u001b[0m         \u001b[0mpil_kwargs\u001b[0m\u001b[0;34m.\u001b[0m\u001b[0msetdefault\u001b[0m\u001b[0;34m(\u001b[0m\u001b[0;34m\"dpi\"\u001b[0m\u001b[0;34m,\u001b[0m \u001b[0;34m(\u001b[0m\u001b[0mdpi\u001b[0m\u001b[0;34m,\u001b[0m \u001b[0mdpi\u001b[0m\u001b[0;34m)\u001b[0m\u001b[0;34m)\u001b[0m\u001b[0;34m\u001b[0m\u001b[0;34m\u001b[0m\u001b[0m\n\u001b[0;32m-> 1616\u001b[0;31m         \u001b[0mimage\u001b[0m\u001b[0;34m.\u001b[0m\u001b[0msave\u001b[0m\u001b[0;34m(\u001b[0m\u001b[0mfname\u001b[0m\u001b[0;34m,\u001b[0m \u001b[0;34m**\u001b[0m\u001b[0mpil_kwargs\u001b[0m\u001b[0;34m)\u001b[0m\u001b[0;34m\u001b[0m\u001b[0;34m\u001b[0m\u001b[0m\n\u001b[0m\u001b[1;32m   1617\u001b[0m \u001b[0;34m\u001b[0m\u001b[0m\n\u001b[1;32m   1618\u001b[0m \u001b[0;34m\u001b[0m\u001b[0m\n",
      "\u001b[0;32m~/opt/anaconda3/lib/python3.9/site-packages/PIL/Image.py\u001b[0m in \u001b[0;36msave\u001b[0;34m(self, fp, format, **params)\u001b[0m\n\u001b[1;32m   2235\u001b[0m                 \u001b[0mfp\u001b[0m \u001b[0;34m=\u001b[0m \u001b[0mbuiltins\u001b[0m\u001b[0;34m.\u001b[0m\u001b[0mopen\u001b[0m\u001b[0;34m(\u001b[0m\u001b[0mfilename\u001b[0m\u001b[0;34m,\u001b[0m \u001b[0;34m\"r+b\"\u001b[0m\u001b[0;34m)\u001b[0m\u001b[0;34m\u001b[0m\u001b[0;34m\u001b[0m\u001b[0m\n\u001b[1;32m   2236\u001b[0m             \u001b[0;32melse\u001b[0m\u001b[0;34m:\u001b[0m\u001b[0;34m\u001b[0m\u001b[0;34m\u001b[0m\u001b[0m\n\u001b[0;32m-> 2237\u001b[0;31m                 \u001b[0mfp\u001b[0m \u001b[0;34m=\u001b[0m \u001b[0mbuiltins\u001b[0m\u001b[0;34m.\u001b[0m\u001b[0mopen\u001b[0m\u001b[0;34m(\u001b[0m\u001b[0mfilename\u001b[0m\u001b[0;34m,\u001b[0m \u001b[0;34m\"w+b\"\u001b[0m\u001b[0;34m)\u001b[0m\u001b[0;34m\u001b[0m\u001b[0;34m\u001b[0m\u001b[0m\n\u001b[0m\u001b[1;32m   2238\u001b[0m \u001b[0;34m\u001b[0m\u001b[0m\n\u001b[1;32m   2239\u001b[0m         \u001b[0;32mtry\u001b[0m\u001b[0;34m:\u001b[0m\u001b[0;34m\u001b[0m\u001b[0;34m\u001b[0m\u001b[0m\n",
      "\u001b[0;31mFileNotFoundError\u001b[0m: [Errno 2] No such file or directory: 'Output/ATP Winners by Age in Best of 3 Matches.png'"
     ]
    },
    {
     "data": {
      "image/png": "[encoded data removed]",
      "text/plain": [
       "<Figure size 432x288 with 1 Axes>"
      ]
     },
     "metadata": {
      "needs_background": "light"
     },
     "output_type": "display_data"
    }
   ],
   "source": [
    "#Graph for best of 3\n",
    "plt.figure()\n",
    "plt.title(\"ATP Winners by Age in Best of 3 Matches\")\n",
    "\n",
    "\n",
    "ax = group3.plot(kind='bar')\n",
    "ax.set_ylabel(\"Win Count\")\n",
    "plt.savefig(\"Output/ATP Winners by Age in Best of 3 Matches\")\n",
    "plt.show()\n"
   ]
  },
  {
   "cell_type": "code",
   "execution_count": 61,
   "id": "e3357ff9",
   "metadata": {},
   "outputs": [
    {
     "data": {
      "text/plain": [
       "Text(0, 0.5, 'Win Count')"
      ]
     },
     "execution_count": 61,
     "metadata": {},
     "output_type": "execute_result"
    },
    {
     "data": {
      "image/png": "[encoded data removed]",
      "text/plain": [
       "<Figure size 432x288 with 1 Axes>"
      ]
     },
     "metadata": {
      "needs_background": "light"
     },
     "output_type": "display_data"
    }
   ],
   "source": [
    "#Graph of best of 5\n",
    "plt.figure()\n",
    "plt.title(\"ATP Winners by Age in Best of 5 Matches\")\n",
    "\n",
    "ax = group5.plot(kind='bar')\n",
    "ax.set_ylabel(\"Win Count\")\n"
   ]
  },
  {
   "cell_type": "markdown",
   "id": "7c44b01f",
   "metadata": {},
   "source": [
    "WTA Code"
   ]
  },
  {
   "cell_type": "code",
   "execution_count": 44,
   "id": "fccde209",
   "metadata": {},
   "outputs": [
    {
     "data": {
      "text/html": [
       "<div>\n",
       "<style scoped>\n",
       "    .dataframe tbody tr th:only-of-type {\n",
       "        vertical-align: middle;\n",
       "    }\n",
       "\n",
       "    .dataframe tbody tr th {\n",
       "        vertical-align: top;\n",
       "    }\n",
       "\n",
       "    .dataframe thead th {\n",
       "        text-align: right;\n",
       "    }\n",
       "</style>\n",
       "<table border=\"1\" class=\"dataframe\">\n",
       "  <thead>\n",
       "    <tr style=\"text-align: right;\">\n",
       "      <th></th>\n",
       "      <th>Unnamed: 0</th>\n",
       "      <th>Tourney_Name</th>\n",
       "      <th>Surface</th>\n",
       "      <th>Tournament_Placement</th>\n",
       "      <th>Winner_Name</th>\n",
       "      <th>Winner_Hand</th>\n",
       "      <th>Winner_Country</th>\n",
       "      <th>Winner_Age</th>\n",
       "      <th>Match Format</th>\n",
       "    </tr>\n",
       "  </thead>\n",
       "  <tbody>\n",
       "    <tr>\n",
       "      <th>0</th>\n",
       "      <td>0</td>\n",
       "      <td>Luxembourg</td>\n",
       "      <td>Hard</td>\n",
       "      <td>R32</td>\n",
       "      <td>Kiki Bertens</td>\n",
       "      <td>R</td>\n",
       "      <td>NED</td>\n",
       "      <td>25.850787</td>\n",
       "      <td>3</td>\n",
       "    </tr>\n",
       "    <tr>\n",
       "      <th>1</th>\n",
       "      <td>1</td>\n",
       "      <td>Luxembourg</td>\n",
       "      <td>Hard</td>\n",
       "      <td>R32</td>\n",
       "      <td>Andrea Petkovic</td>\n",
       "      <td>R</td>\n",
       "      <td>GER</td>\n",
       "      <td>30.102669</td>\n",
       "      <td>3</td>\n",
       "    </tr>\n",
       "    <tr>\n",
       "      <th>2</th>\n",
       "      <td>2</td>\n",
       "      <td>Luxembourg</td>\n",
       "      <td>Hard</td>\n",
       "      <td>R32</td>\n",
       "      <td>Evgeniya Rodina</td>\n",
       "      <td>R</td>\n",
       "      <td>RUS</td>\n",
       "      <td>28.695414</td>\n",
       "      <td>3</td>\n",
       "    </tr>\n",
       "    <tr>\n",
       "      <th>3</th>\n",
       "      <td>3</td>\n",
       "      <td>Luxembourg</td>\n",
       "      <td>Hard</td>\n",
       "      <td>R32</td>\n",
       "      <td>Carina Witthoeft</td>\n",
       "      <td>R</td>\n",
       "      <td>GER</td>\n",
       "      <td>22.663929</td>\n",
       "      <td>3</td>\n",
       "    </tr>\n",
       "    <tr>\n",
       "      <th>4</th>\n",
       "      <td>4</td>\n",
       "      <td>Luxembourg</td>\n",
       "      <td>Hard</td>\n",
       "      <td>R32</td>\n",
       "      <td>Veronica Cepede Royg</td>\n",
       "      <td>R</td>\n",
       "      <td>PAR</td>\n",
       "      <td>25.735797</td>\n",
       "      <td>3</td>\n",
       "    </tr>\n",
       "    <tr>\n",
       "      <th>...</th>\n",
       "      <td>...</td>\n",
       "      <td>...</td>\n",
       "      <td>...</td>\n",
       "      <td>...</td>\n",
       "      <td>...</td>\n",
       "      <td>...</td>\n",
       "      <td>...</td>\n",
       "      <td>...</td>\n",
       "      <td>...</td>\n",
       "    </tr>\n",
       "    <tr>\n",
       "      <th>14305</th>\n",
       "      <td>2857</td>\n",
       "      <td>NaN</td>\n",
       "      <td>NaN</td>\n",
       "      <td>NaN</td>\n",
       "      <td>NaN</td>\n",
       "      <td>NaN</td>\n",
       "      <td>NaN</td>\n",
       "      <td>NaN</td>\n",
       "      <td>3</td>\n",
       "    </tr>\n",
       "    <tr>\n",
       "      <th>14306</th>\n",
       "      <td>2858</td>\n",
       "      <td>NaN</td>\n",
       "      <td>NaN</td>\n",
       "      <td>NaN</td>\n",
       "      <td>NaN</td>\n",
       "      <td>NaN</td>\n",
       "      <td>NaN</td>\n",
       "      <td>NaN</td>\n",
       "      <td>3</td>\n",
       "    </tr>\n",
       "    <tr>\n",
       "      <th>14307</th>\n",
       "      <td>2859</td>\n",
       "      <td>NaN</td>\n",
       "      <td>NaN</td>\n",
       "      <td>NaN</td>\n",
       "      <td>NaN</td>\n",
       "      <td>NaN</td>\n",
       "      <td>NaN</td>\n",
       "      <td>NaN</td>\n",
       "      <td>3</td>\n",
       "    </tr>\n",
       "    <tr>\n",
       "      <th>14308</th>\n",
       "      <td>2860</td>\n",
       "      <td>NaN</td>\n",
       "      <td>NaN</td>\n",
       "      <td>NaN</td>\n",
       "      <td>NaN</td>\n",
       "      <td>NaN</td>\n",
       "      <td>NaN</td>\n",
       "      <td>NaN</td>\n",
       "      <td>3</td>\n",
       "    </tr>\n",
       "    <tr>\n",
       "      <th>14309</th>\n",
       "      <td>2861</td>\n",
       "      <td>NaN</td>\n",
       "      <td>NaN</td>\n",
       "      <td>NaN</td>\n",
       "      <td>NaN</td>\n",
       "      <td>NaN</td>\n",
       "      <td>NaN</td>\n",
       "      <td>NaN</td>\n",
       "      <td>3</td>\n",
       "    </tr>\n",
       "  </tbody>\n",
       "</table>\n",
       "<p>14310 rows × 9 columns</p>\n",
       "</div>"
      ],
      "text/plain": [
       "       Unnamed: 0 Tourney_Name Surface Tournament_Placement  \\\n",
       "0               0   Luxembourg    Hard                  R32   \n",
       "1               1   Luxembourg    Hard                  R32   \n",
       "2               2   Luxembourg    Hard                  R32   \n",
       "3               3   Luxembourg    Hard                  R32   \n",
       "4               4   Luxembourg    Hard                  R32   \n",
       "...           ...          ...     ...                  ...   \n",
       "14305        2857          NaN     NaN                  NaN   \n",
       "14306        2858          NaN     NaN                  NaN   \n",
       "14307        2859          NaN     NaN                  NaN   \n",
       "14308        2860          NaN     NaN                  NaN   \n",
       "14309        2861          NaN     NaN                  NaN   \n",
       "\n",
       "                Winner_Name Winner_Hand Winner_Country  Winner_Age  \\\n",
       "0              Kiki Bertens           R            NED   25.850787   \n",
       "1           Andrea Petkovic           R            GER   30.102669   \n",
       "2           Evgeniya Rodina           R            RUS   28.695414   \n",
       "3          Carina Witthoeft           R            GER   22.663929   \n",
       "4      Veronica Cepede Royg           R            PAR   25.735797   \n",
       "...                     ...         ...            ...         ...   \n",
       "14305                   NaN         NaN            NaN         NaN   \n",
       "14306                   NaN         NaN            NaN         NaN   \n",
       "14307                   NaN         NaN            NaN         NaN   \n",
       "14308                   NaN         NaN            NaN         NaN   \n",
       "14309                   NaN         NaN            NaN         NaN   \n",
       "\n",
       "       Match Format  \n",
       "0                 3  \n",
       "1                 3  \n",
       "2                 3  \n",
       "3                 3  \n",
       "4                 3  \n",
       "...             ...  \n",
       "14305             3  \n",
       "14306             3  \n",
       "14307             3  \n",
       "14308             3  \n",
       "14309             3  \n",
       "\n",
       "[14310 rows x 9 columns]"
      ]
     },
     "execution_count": 44,
     "metadata": {},
     "output_type": "execute_result"
    }
   ],
   "source": [
    "new_df_wta = \"../Resources/all_womens_matches.csv\"\n",
    "new_df_wta = pd.read_csv(new_df_wta)\n",
    "new_df_wta"
   ]
  },
  {
   "cell_type": "markdown",
   "id": "6a2f01f2",
   "metadata": {},
   "source": [
    "WTA Section"
   ]
  },
  {
   "cell_type": "code",
   "execution_count": 48,
   "id": "4538a9b8",
   "metadata": {},
   "outputs": [
    {
     "data": {
      "text/plain": [
       "26.0"
      ]
     },
     "execution_count": 48,
     "metadata": {},
     "output_type": "execute_result"
    }
   ],
   "source": [
    "wtag = new_df_wta[\"Winner_Age\"]\n",
    "round(wtag.mean(axis=0),0)"
   ]
  },
  {
   "cell_type": "code",
   "execution_count": 50,
   "id": "fbb27a20",
   "metadata": {},
   "outputs": [
    {
     "data": {
      "text/plain": [
       "0    25.0\n",
       "dtype: float64"
      ]
     },
     "execution_count": 50,
     "metadata": {},
     "output_type": "execute_result"
    }
   ],
   "source": [
    "wtag = wtag.round(0)\n",
    "wtagmode = wtag.mode()\n",
    "wtagmode"
   ]
  },
  {
   "cell_type": "code",
   "execution_count": 51,
   "id": "5ee11fb7",
   "metadata": {},
   "outputs": [
    {
     "data": {
      "text/plain": [
       "12880    41.0\n",
       "11607    41.0\n",
       "11675    41.0\n",
       "12613    40.0\n",
       "12565    40.0\n",
       "         ... \n",
       "14305     NaN\n",
       "14306     NaN\n",
       "14307     NaN\n",
       "14308     NaN\n",
       "14309     NaN\n",
       "Name: Winner_Age, Length: 14310, dtype: float64"
      ]
     },
     "execution_count": 51,
     "metadata": {},
     "output_type": "execute_result"
    }
   ],
   "source": [
    "wtag.sort_values(ascending=False)"
   ]
  },
  {
   "cell_type": "code",
   "execution_count": 52,
   "id": "a3f5dd69",
   "metadata": {},
   "outputs": [
    {
     "data": {
      "text/plain": [
       "25.0    1293\n",
       "24.0    1188\n",
       "27.0    1086\n",
       "26.0    1064\n",
       "28.0    1021\n",
       "Name: Winner_Age, dtype: int64"
      ]
     },
     "execution_count": 52,
     "metadata": {},
     "output_type": "execute_result"
    }
   ],
   "source": [
    "wtag.value_counts().head(5)"
   ]
  },
  {
   "cell_type": "code",
   "execution_count": 54,
   "id": "c73fdbb1",
   "metadata": {},
   "outputs": [
    {
     "data": {
      "text/plain": [
       "15.0"
      ]
     },
     "execution_count": 54,
     "metadata": {},
     "output_type": "execute_result"
    }
   ],
   "source": [
    "wtag.min()"
   ]
  },
  {
   "cell_type": "code",
   "execution_count": 55,
   "id": "1b33cc71",
   "metadata": {},
   "outputs": [
    {
     "data": {
      "text/plain": [
       "41.0"
      ]
     },
     "execution_count": 55,
     "metadata": {},
     "output_type": "execute_result"
    }
   ],
   "source": [
    "wtag.max()"
   ]
  },
  {
   "cell_type": "code",
   "execution_count": 56,
   "id": "60945f4e",
   "metadata": {},
   "outputs": [],
   "source": [
    "bins_wta = pd.cut(wtag,9)"
   ]
  },
  {
   "cell_type": "code",
   "execution_count": 57,
   "id": "e8621878",
   "metadata": {},
   "outputs": [],
   "source": [
    "groups_wta = wtag.groupby(bins_wta)\n",
    "group_wta = groups_wta.count()"
   ]
  },
  {
   "cell_type": "code",
   "execution_count": 59,
   "id": "40876be8",
   "metadata": {},
   "outputs": [
    {
     "data": {
      "text/plain": [
       "Text(0, 0.5, 'Win Count')"
      ]
     },
     "execution_count": 59,
     "metadata": {},
     "output_type": "execute_result"
    },
    {
     "data": {
      "image/png": "[encoded data removed]",
      "text/plain": [
       "<Figure size 432x288 with 1 Axes>"
      ]
     },
     "metadata": {
      "needs_background": "light"
     },
     "output_type": "display_data"
    }
   ],
   "source": [
    "plt.figure()\n",
    "plt.title(\"WTA Winners by Age\")\n",
    "\n",
    "ax = group_wta.plot(kind='bar')\n",
    "ax.set_ylabel(\"Win Count\")\n"
   ]
  }
 ],
 "metadata": {
  "kernelspec": {
   "display_name": "Python 3 (ipykernel)",
   "language": "python",
   "name": "python3"
  },
  "language_info": {
   "codemirror_mode": {
    "name": "ipython",
    "version": 3
   },
   "file_extension": ".py",
   "mimetype": "text/x-python",
   "name": "python",
   "nbconvert_exporter": "python",
   "pygments_lexer": "ipython3",
   "version": "3.9.7"
  }
 },
 "nbformat": 4,
 "nbformat_minor": 5
}
